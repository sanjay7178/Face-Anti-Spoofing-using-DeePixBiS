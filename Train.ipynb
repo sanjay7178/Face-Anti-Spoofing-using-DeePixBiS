{
  "cells": [
    {
      "cell_type": "markdown",
      "metadata": {
        "id": "view-in-github",
        "colab_type": "text"
      },
      "source": [
        "<a href=\"https://colab.research.google.com/github/sanjay7178/Face-Anti-Spoofing-using-DeePixBiS/blob/main/Train.ipynb\" target=\"_parent\"><img src=\"https://colab.research.google.com/assets/colab-badge.svg\" alt=\"Open In Colab\"/></a>"
      ]
    },
    {
      "cell_type": "code",
      "source": [
        "!cd /content/Face-Anti-Spoofing-using-DeePixBiS"
      ],
      "metadata": {
        "id": "2yxRs361JB97"
      },
      "execution_count": 26,
      "outputs": []
    },
    {
      "cell_type": "code",
      "execution_count": null,
      "metadata": {
        "id": "s-YRkT5sIxWY"
      },
      "outputs": [],
      "source": [
        "import torch\n",
        "import torch.nn as nn\n",
        "from torchvision.transforms import Compose, ToTensor, RandomHorizontalFlip, Normalize, Resize, RandomRotation\n",
        "import numpy as np\n",
        "from torch.utils.data import DataLoader\n",
        "from Dataset import PixWiseDataset\n",
        "from Model import DeePixBiS\n",
        "from Loss import PixWiseBCELoss\n",
        "from Metrics import predict, test_accuracy, test_loss\n",
        "from Trainer import Trainer\n"
      ]
    },
    {
      "cell_type": "code",
      "execution_count": null,
      "metadata": {
        "id": "OV2EHnsyIxWf",
        "outputId": "0a6fef81-7d70-43b3-f90a-d703e27484a1"
      },
      "outputs": [
        {
          "data": {
            "text/plain": [
              "True"
            ]
          },
          "execution_count": 3,
          "metadata": {},
          "output_type": "execute_result"
        }
      ],
      "source": [
        "torch.cuda.is_available()\n"
      ]
    },
    {
      "cell_type": "code",
      "execution_count": null,
      "metadata": {
        "id": "f7aEqDteIxWh",
        "outputId": "099327dd-03ec-4798-aa57-dcbaa60e7215"
      },
      "outputs": [
        {
          "name": "stdout",
          "output_type": "stream",
          "text": [
            "cuda:0\n"
          ]
        }
      ],
      "source": [
        "device = torch.device(\"cuda:0\" if torch.cuda.is_available() else \"cpu\")\n",
        "print(device)\n"
      ]
    },
    {
      "cell_type": "code",
      "execution_count": null,
      "metadata": {
        "id": "0nA2kEFRIxWi",
        "outputId": "632345c4-531f-41b7-8e0e-8aa03781b189"
      },
      "outputs": [
        {
          "data": {
            "text/plain": [
              "'NVIDIA TITAN Xp'"
            ]
          },
          "execution_count": 5,
          "metadata": {},
          "output_type": "execute_result"
        }
      ],
      "source": [
        "torch.cuda.get_device_name(0)"
      ]
    },
    {
      "cell_type": "code",
      "execution_count": null,
      "metadata": {
        "id": "iA38kWWPIxWi"
      },
      "outputs": [],
      "source": [
        "X_train = torch.FloatTensor([0., 1., 2.])\n",
        "X_train = X_train.cuda() "
      ]
    },
    {
      "cell_type": "code",
      "execution_count": null,
      "metadata": {
        "id": "8yA5AD17IxWj",
        "outputId": "70b29874-1b57-4d0e-89aa-ee924ba66574"
      },
      "outputs": [
        {
          "name": "stderr",
          "output_type": "stream",
          "text": [
            "/home/air/miniconda3/envs/torch/lib/python3.10/site-packages/torchvision/models/_utils.py:208: UserWarning: The parameter 'pretrained' is deprecated since 0.13 and may be removed in the future, please use 'weights' instead.\n",
            "  warnings.warn(\n",
            "/home/air/miniconda3/envs/torch/lib/python3.10/site-packages/torchvision/models/_utils.py:223: UserWarning: Arguments other than a weight enum or `None` for 'weights' are deprecated since 0.13 and may be removed in the future. The current behavior is equivalent to passing `weights=DenseNet161_Weights.IMAGENET1K_V1`. You can also use `weights=DenseNet161_Weights.DEFAULT` to get the most up-to-date weights.\n",
            "  warnings.warn(msg)\n"
          ]
        }
      ],
      "source": [
        "\n",
        "model = DeePixBiS()\n",
        "model.load_state_dict(torch.load('./DeePixBiS.pth'))\n",
        "\n",
        "loss_fn = PixWiseBCELoss()\n",
        "\n",
        "opt = torch.optim.Adam(model.parameters(), lr=0.0001)\n",
        "\n"
      ]
    },
    {
      "cell_type": "code",
      "execution_count": null,
      "metadata": {
        "id": "k2YOUtCOIxWk"
      },
      "outputs": [],
      "source": [
        "train_tfms = Compose([Resize([224, 224]),\n",
        "                      RandomHorizontalFlip(),\n",
        "                      RandomRotation(10),\n",
        "                      ToTensor(),\n",
        "                      Normalize([0.5, 0.5, 0.5], [0.5, 0.5, 0.5])])\n",
        "\n",
        "test_tfms = Compose([Resize([224, 224]),\n",
        "                     ToTensor(),\n",
        "                     Normalize([0.5, 0.5, 0.5], [0.5, 0.5, 0.5])])\n",
        "\n"
      ]
    },
    {
      "cell_type": "code",
      "execution_count": null,
      "metadata": {
        "id": "WyirUI5rIxWk"
      },
      "outputs": [],
      "source": [
        "train_dataset = PixWiseDataset('./train_data.csv', transform=train_tfms)\n",
        "train_ds = train_dataset.dataset()\n",
        "\n",
        "val_dataset = PixWiseDataset('./test_data.csv', transform=test_tfms)\n",
        "val_ds = val_dataset.dataset()\n",
        "\n",
        "batch_size = 1000\n",
        "train_dl = DataLoader(train_ds, batch_size, shuffle=True, num_workers=0, pin_memory=True)\n",
        "val_dl = DataLoader(val_ds, batch_size, shuffle=True, num_workers=0, pin_memory=True)\n"
      ]
    },
    {
      "cell_type": "code",
      "execution_count": null,
      "metadata": {
        "id": "n7jfH9m4IxWl",
        "outputId": "af397fc5-0139-4a62-86f1-7ab58d941038"
      },
      "outputs": [
        {
          "name": "stdout",
          "output_type": "stream",
          "text": [
            "Training Beginning\n",
            "\n",
            "\n",
            "Epoch (1/1)\n",
            "----------------------------------\n"
          ]
        }
      ],
      "source": [
        "\n",
        "# for x, y, z in val_dl:\n",
        "# \t_, zp = model(x)\n",
        "# \tprint(zp)\n",
        "# \tprint (z)\n",
        "# \tbreak\n",
        "\n",
        "# print(test_accuracy(model, train_dl))\n",
        "# print(test_loss(model, train_dl, loss_fn))\n",
        "\n",
        "# 5 epochs ran\n",
        "\n",
        "trainer = Trainer(train_dl, val_dl, model, 1, opt, loss_fn)\n",
        "\n",
        "print('Training Beginning\\n')\n",
        "trainer.fit()\n",
        "print('\\nTraining Complete')\n",
        "torch.save(model.state_dict(), './DeePixBiS.pth')\n"
      ]
    },
    {
      "cell_type": "code",
      "source": [
        "!sudo apt-get install libqt5x11extras5"
      ],
      "metadata": {
        "id": "qaLWPUdpLzve",
        "outputId": "f93eb258-e453-49c4-a5af-9b3dcdbda47a",
        "colab": {
          "base_uri": "https://localhost:8080/"
        }
      },
      "execution_count": 35,
      "outputs": [
        {
          "output_type": "stream",
          "name": "stdout",
          "text": [
            "Reading package lists... Done\n",
            "Building dependency tree       \n",
            "Reading state information... Done\n",
            "The following package was automatically installed and is no longer required:\n",
            "  libnvidia-common-525\n",
            "Use 'sudo apt autoremove' to remove it.\n",
            "The following NEW packages will be installed:\n",
            "  libqt5x11extras5\n",
            "0 upgraded, 1 newly installed, 0 to remove and 23 not upgraded.\n",
            "Need to get 10.3 kB of archives.\n",
            "After this operation, 48.1 kB of additional disk space will be used.\n",
            "Get:1 http://archive.ubuntu.com/ubuntu focal/universe amd64 libqt5x11extras5 amd64 5.12.8-0ubuntu1 [10.3 kB]\n",
            "Fetched 10.3 kB in 1s (14.6 kB/s)\n",
            "debconf: unable to initialize frontend: Dialog\n",
            "debconf: (No usable dialog-like program is installed, so the dialog based frontend cannot be used. at /usr/share/perl5/Debconf/FrontEnd/Dialog.pm line 76, <> line 1.)\n",
            "debconf: falling back to frontend: Readline\n",
            "debconf: unable to initialize frontend: Readline\n",
            "debconf: (This frontend requires a controlling tty.)\n",
            "debconf: falling back to frontend: Teletype\n",
            "dpkg-preconfigure: unable to re-open stdin: \n",
            "Selecting previously unselected package libqt5x11extras5:amd64.\n",
            "(Reading database ... 128293 files and directories currently installed.)\n",
            "Preparing to unpack .../libqt5x11extras5_5.12.8-0ubuntu1_amd64.deb ...\n",
            "Unpacking libqt5x11extras5:amd64 (5.12.8-0ubuntu1) ...\n",
            "Setting up libqt5x11extras5:amd64 (5.12.8-0ubuntu1) ...\n",
            "Processing triggers for libc-bin (2.31-0ubuntu9.9) ...\n"
          ]
        }
      ]
    },
    {
      "cell_type": "code",
      "source": [
        "!ls /usr/local/lib/python3.9/dist-packages/cv2/qt/plugins"
      ],
      "metadata": {
        "id": "S97GrAowMNco",
        "outputId": "1cd529a0-2c05-48c3-be1b-52e6252557ee",
        "colab": {
          "base_uri": "https://localhost:8080/"
        }
      },
      "execution_count": 37,
      "outputs": [
        {
          "output_type": "stream",
          "name": "stdout",
          "text": [
            "ls: cannot access '/usr/local/lib/python3.9/dist-packages/cv2/qt/plugins': No such file or directory\n"
          ]
        }
      ]
    },
    {
      "cell_type": "code",
      "source": [
        "!sudo ls /usr/local/lib/python3.9/dist-packages/cv2/qt/plugins"
      ],
      "metadata": {
        "id": "8OCR_7RiMhzL",
        "outputId": "9d40b0b5-514f-4816-90fc-4e791f7a4323",
        "colab": {
          "base_uri": "https://localhost:8080/"
        }
      },
      "execution_count": 42,
      "outputs": [
        {
          "output_type": "stream",
          "name": "stdout",
          "text": [
            "ls: cannot access '/usr/local/lib/python3.9/dist-packages/cv2/qt/plugins': No such file or directory\n"
          ]
        }
      ]
    },
    {
      "cell_type": "code",
      "source": [
        "!pip install PyQt5"
      ],
      "metadata": {
        "id": "1lnvgV_AMRsO",
        "outputId": "9dcda4e5-76a9-4fb9-f349-065a1da90378",
        "colab": {
          "base_uri": "https://localhost:8080/"
        }
      },
      "execution_count": 39,
      "outputs": [
        {
          "output_type": "stream",
          "name": "stdout",
          "text": [
            "Looking in indexes: https://pypi.org/simple, https://us-python.pkg.dev/colab-wheels/public/simple/\n",
            "Collecting PyQt5\n",
            "  Downloading PyQt5-5.15.9-cp37-abi3-manylinux_2_17_x86_64.whl (8.4 MB)\n",
            "\u001b[2K     \u001b[90m━━━━━━━━━━━━━━━━━━━━━━━━━━━━━━━━━━━━━━━━\u001b[0m \u001b[32m8.4/8.4 MB\u001b[0m \u001b[31m48.0 MB/s\u001b[0m eta \u001b[36m0:00:00\u001b[0m\n",
            "\u001b[?25hCollecting PyQt5-sip<13,>=12.11\n",
            "  Downloading PyQt5_sip-12.11.1-cp39-cp39-manylinux_2_5_x86_64.manylinux1_x86_64.whl (357 kB)\n",
            "\u001b[2K     \u001b[90m━━━━━━━━━━━━━━━━━━━━━━━━━━━━━━━━━━━━━━\u001b[0m \u001b[32m357.8/357.8 KB\u001b[0m \u001b[31m36.3 MB/s\u001b[0m eta \u001b[36m0:00:00\u001b[0m\n",
            "\u001b[?25hCollecting PyQt5-Qt5>=5.15.2\n",
            "  Downloading PyQt5_Qt5-5.15.2-py3-none-manylinux2014_x86_64.whl (59.9 MB)\n",
            "\u001b[2K     \u001b[90m━━━━━━━━━━━━━━━━━━━━━━━━━━━━━━━━━━━━━━━━\u001b[0m \u001b[32m59.9/59.9 MB\u001b[0m \u001b[31m24.8 MB/s\u001b[0m eta \u001b[36m0:00:00\u001b[0m\n",
            "\u001b[?25hInstalling collected packages: PyQt5-Qt5, PyQt5-sip, PyQt5\n",
            "Successfully installed PyQt5-5.15.9 PyQt5-Qt5-5.15.2 PyQt5-sip-12.11.1\n"
          ]
        }
      ]
    },
    {
      "cell_type": "code",
      "source": [
        "!sudo ln -sf /usr/lib/x86_64-linux-gnu/qt5/plugins/platforms/ /usr/bin/\n",
        "\n"
      ],
      "metadata": {
        "id": "pz-GD0_8MJrw"
      },
      "execution_count": null,
      "outputs": []
    },
    {
      "cell_type": "code",
      "source": [
        "!python3 Test.py"
      ],
      "metadata": {
        "id": "mA_ydz8XLVCh",
        "outputId": "1fa4c41d-e941-4bfa-da2b-b6f301ee20d9",
        "colab": {
          "base_uri": "https://localhost:8080/"
        }
      },
      "execution_count": 40,
      "outputs": [
        {
          "output_type": "stream",
          "name": "stdout",
          "text": [
            "/usr/local/lib/python3.9/dist-packages/torchvision/models/_utils.py:208: UserWarning: The parameter 'pretrained' is deprecated since 0.13 and may be removed in the future, please use 'weights' instead.\n",
            "  warnings.warn(\n",
            "/usr/local/lib/python3.9/dist-packages/torchvision/models/_utils.py:223: UserWarning: Arguments other than a weight enum or `None` for 'weights' are deprecated since 0.13 and may be removed in the future. The current behavior is equivalent to passing `weights=DenseNet161_Weights.IMAGENET1K_V1`. You can also use `weights=DenseNet161_Weights.DEFAULT` to get the most up-to-date weights.\n",
            "  warnings.warn(msg)\n",
            "qt.qpa.plugin: Could not find the Qt platform plugin \"xcb\" in \"/usr/local/lib/python3.9/dist-packages/cv2/qt/plugins\"\n",
            "This application failed to start because no Qt platform plugin could be initialized. Reinstalling the application may fix this problem.\n",
            "\n"
          ]
        }
      ]
    },
    {
      "cell_type": "code",
      "source": [],
      "metadata": {
        "id": "unHzQyxHLmo1"
      },
      "execution_count": null,
      "outputs": []
    }
  ],
  "metadata": {
    "kernelspec": {
      "display_name": "torch",
      "language": "python",
      "name": "python3"
    },
    "language_info": {
      "codemirror_mode": {
        "name": "ipython",
        "version": 3
      },
      "file_extension": ".py",
      "mimetype": "text/x-python",
      "name": "python",
      "nbconvert_exporter": "python",
      "pygments_lexer": "ipython3",
      "version": "3.10.9"
    },
    "orig_nbformat": 4,
    "colab": {
      "provenance": [],
      "include_colab_link": true
    },
    "accelerator": "GPU",
    "gpuClass": "standard"
  },
  "nbformat": 4,
  "nbformat_minor": 0
}