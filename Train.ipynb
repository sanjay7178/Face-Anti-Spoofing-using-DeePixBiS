{
  "cells": [
    {
      "cell_type": "markdown",
      "metadata": {
        "colab_type": "text",
        "id": "view-in-github"
      },
      "source": [
        "<a href=\"https://colab.research.google.com/github/sanjay7178/Face-Anti-Spoofing-using-DeePixBiS/blob/main/Train.ipynb\" target=\"_parent\"><img src=\"https://colab.research.google.com/assets/colab-badge.svg\" alt=\"Open In Colab\"/></a>"
      ]
    },
    {
      "cell_type": "code",
      "execution_count": 1,
      "metadata": {
        "id": "2yxRs361JB97"
      },
      "outputs": [
        {
          "name": "stdout",
          "output_type": "stream",
          "text": [
            "/bin/bash: line 0: cd: /content/Face-Anti-Spoofing-using-DeePixBiS: No such file or directory\n"
          ]
        }
      ],
      "source": [
        "!cd /content/Face-Anti-Spoofing-using-DeePixBiS"
      ]
    },
    {
      "cell_type": "code",
      "execution_count": 2,
      "metadata": {
        "id": "s-YRkT5sIxWY"
      },
      "outputs": [],
      "source": [
        "import torch\n",
        "import torch.nn as nn\n",
        "from torchvision.transforms import Compose, ToTensor, RandomHorizontalFlip, Normalize, Resize, RandomRotation\n",
        "import numpy as np\n",
        "from torch.utils.data import DataLoader\n",
        "from Dataset import PixWiseDataset\n",
        "from Model import DeePixBiS\n",
        "from Loss import PixWiseBCELoss\n",
        "from Metrics import predict, test_accuracy, test_loss\n",
        "from Trainer import Trainer"
      ]
    },
    {
      "cell_type": "code",
      "execution_count": 3,
      "metadata": {
        "id": "f7aEqDteIxWh",
        "outputId": "099327dd-03ec-4798-aa57-dcbaa60e7215"
      },
      "outputs": [
        {
          "name": "stdout",
          "output_type": "stream",
          "text": [
            "cuda\n"
          ]
        }
      ],
      "source": [
        "device = \"cuda\" if torch.cuda.is_available() else \"cpu\"\n",
        "print(device)"
      ]
    },
    {
      "cell_type": "code",
      "execution_count": 4,
      "metadata": {
        "id": "0nA2kEFRIxWi",
        "outputId": "632345c4-531f-41b7-8e0e-8aa03781b189"
      },
      "outputs": [
        {
          "data": {
            "text/plain": [
              "'NVIDIA TITAN Xp'"
            ]
          },
          "execution_count": 4,
          "metadata": {},
          "output_type": "execute_result"
        }
      ],
      "source": [
        "torch.cuda.get_device_name(0)"
      ]
    },
    {
      "cell_type": "code",
      "execution_count": 5,
      "metadata": {
        "id": "8yA5AD17IxWj",
        "outputId": "70b29874-1b57-4d0e-89aa-ee924ba66574"
      },
      "outputs": [
        {
          "name": "stderr",
          "output_type": "stream",
          "text": [
            "/home/air/miniconda3/envs/torch/lib/python3.10/site-packages/torchvision/models/_utils.py:208: UserWarning: The parameter 'pretrained' is deprecated since 0.13 and may be removed in the future, please use 'weights' instead.\n",
            "  warnings.warn(\n",
            "/home/air/miniconda3/envs/torch/lib/python3.10/site-packages/torchvision/models/_utils.py:223: UserWarning: Arguments other than a weight enum or `None` for 'weights' are deprecated since 0.13 and may be removed in the future. The current behavior is equivalent to passing `weights=DenseNet161_Weights.IMAGENET1K_V1`. You can also use `weights=DenseNet161_Weights.DEFAULT` to get the most up-to-date weights.\n",
            "  warnings.warn(msg)\n"
          ]
        }
      ],
      "source": [
        "model = DeePixBiS()\n",
        "model.load_state_dict(torch.load('./DeePixBiS.pth'))\n",
        "model = model.to(device)\n",
        "\n",
        "loss_fn = PixWiseBCELoss()\n",
        "\n",
        "opt = torch.optim.Adam(model.parameters(), lr=0.0001)"
      ]
    },
    {
      "cell_type": "code",
      "execution_count": 6,
      "metadata": {
        "id": "k2YOUtCOIxWk"
      },
      "outputs": [],
      "source": [
        "train_tfms = Compose([Resize([224, 224]),\n",
        "                      RandomHorizontalFlip(),\n",
        "                      RandomRotation(10),\n",
        "                      ToTensor(),\n",
        "                      Normalize([0.5, 0.5, 0.5], [0.5, 0.5, 0.5])])\n",
        "\n",
        "test_tfms = Compose([Resize([224, 224]),\n",
        "                     ToTensor(),\n",
        "                     Normalize([0.5, 0.5, 0.5], [0.5, 0.5, 0.5])])"
      ]
    },
    {
      "cell_type": "code",
      "execution_count": 7,
      "metadata": {
        "id": "WyirUI5rIxWk"
      },
      "outputs": [],
      "source": [
        "train_dataset = PixWiseDataset('/home/air/Face-Anti-Spoofing-using-DeePixBiS/dataset_csv/nuaa_images.csv', transform=train_tfms)\n",
        "train_ds = train_dataset.dataset()\n",
        "\n",
        "val_dataset = PixWiseDataset('./test_data.csv', transform=test_tfms)\n",
        "val_ds = val_dataset.dataset()\n",
        "\n",
        "batch_size = 8\n",
        "train_dl = DataLoader(train_ds, batch_size, shuffle=True, num_workers=8, pin_memory=True)\n",
        "val_dl = DataLoader(val_ds, batch_size, shuffle=True, num_workers=8, pin_memory=True)"
      ]
    },
    {
      "cell_type": "code",
      "execution_count": 8,
      "metadata": {
        "id": "n7jfH9m4IxWl",
        "outputId": "af397fc5-0139-4a62-86f1-7ab58d941038"
      },
      "outputs": [
        {
          "name": "stdout",
          "output_type": "stream",
          "text": [
            "Training Beginning\n",
            "\n",
            "\n",
            "Epoch (1/3)\n",
            "----------------------------------\n",
            "Loss : 0.0725477859377861\n",
            "Test Accuracy : 100.0  Test Loss : 0.08572279289364815\n",
            "\n",
            "Epoch (2/3)\n",
            "----------------------------------\n",
            "Loss : 0.06619507074356079\n",
            "Test Accuracy : 100.0  Test Loss : 0.06912321178242564\n",
            "\n",
            "Epoch (3/3)\n",
            "----------------------------------\n",
            "Loss : 0.05990900099277496\n",
            "Test Accuracy : 100.0  Test Loss : 0.060585091821849346\n",
            "\n",
            "Training Complete\n"
          ]
        }
      ],
      "source": [
        "trainer = Trainer(train_dl, val_dl, model, 3, opt, loss_fn, device=device)\n",
        "\n",
        "print('Training Beginning\\n')\n",
        "trainer.fit()\n",
        "print('\\nTraining Complete')\n",
        "torch.save(model.state_dict(), './DeePixBiS.pth')"
      ]
    },
    {
      "cell_type": "code",
      "execution_count": 35,
      "metadata": {
        "colab": {
          "base_uri": "https://localhost:8080/"
        },
        "id": "qaLWPUdpLzve",
        "outputId": "f93eb258-e453-49c4-a5af-9b3dcdbda47a"
      },
      "outputs": [
        {
          "name": "stdout",
          "output_type": "stream",
          "text": [
            "Reading package lists... Done\n",
            "Building dependency tree       \n",
            "Reading state information... Done\n",
            "The following package was automatically installed and is no longer required:\n",
            "  libnvidia-common-525\n",
            "Use 'sudo apt autoremove' to remove it.\n",
            "The following NEW packages will be installed:\n",
            "  libqt5x11extras5\n",
            "0 upgraded, 1 newly installed, 0 to remove and 23 not upgraded.\n",
            "Need to get 10.3 kB of archives.\n",
            "After this operation, 48.1 kB of additional disk space will be used.\n",
            "Get:1 http://archive.ubuntu.com/ubuntu focal/universe amd64 libqt5x11extras5 amd64 5.12.8-0ubuntu1 [10.3 kB]\n",
            "Fetched 10.3 kB in 1s (14.6 kB/s)\n",
            "debconf: unable to initialize frontend: Dialog\n",
            "debconf: (No usable dialog-like program is installed, so the dialog based frontend cannot be used. at /usr/share/perl5/Debconf/FrontEnd/Dialog.pm line 76, <> line 1.)\n",
            "debconf: falling back to frontend: Readline\n",
            "debconf: unable to initialize frontend: Readline\n",
            "debconf: (This frontend requires a controlling tty.)\n",
            "debconf: falling back to frontend: Teletype\n",
            "dpkg-preconfigure: unable to re-open stdin: \n",
            "Selecting previously unselected package libqt5x11extras5:amd64.\n",
            "(Reading database ... 128293 files and directories currently installed.)\n",
            "Preparing to unpack .../libqt5x11extras5_5.12.8-0ubuntu1_amd64.deb ...\n",
            "Unpacking libqt5x11extras5:amd64 (5.12.8-0ubuntu1) ...\n",
            "Setting up libqt5x11extras5:amd64 (5.12.8-0ubuntu1) ...\n",
            "Processing triggers for libc-bin (2.31-0ubuntu9.9) ...\n"
          ]
        }
      ],
      "source": [
        "!sudo apt-get install libqt5x11extras5"
      ]
    },
    {
      "cell_type": "code",
      "execution_count": 37,
      "metadata": {
        "colab": {
          "base_uri": "https://localhost:8080/"
        },
        "id": "S97GrAowMNco",
        "outputId": "1cd529a0-2c05-48c3-be1b-52e6252557ee"
      },
      "outputs": [
        {
          "name": "stdout",
          "output_type": "stream",
          "text": [
            "ls: cannot access '/usr/local/lib/python3.9/dist-packages/cv2/qt/plugins': No such file or directory\n"
          ]
        }
      ],
      "source": [
        "!ls /usr/local/lib/python3.9/dist-packages/cv2/qt/plugins"
      ]
    },
    {
      "cell_type": "code",
      "execution_count": 42,
      "metadata": {
        "colab": {
          "base_uri": "https://localhost:8080/"
        },
        "id": "8OCR_7RiMhzL",
        "outputId": "9d40b0b5-514f-4816-90fc-4e791f7a4323"
      },
      "outputs": [
        {
          "name": "stdout",
          "output_type": "stream",
          "text": [
            "ls: cannot access '/usr/local/lib/python3.9/dist-packages/cv2/qt/plugins': No such file or directory\n"
          ]
        }
      ],
      "source": [
        "!sudo ls /usr/local/lib/python3.9/dist-packages/cv2/qt/plugins"
      ]
    },
    {
      "cell_type": "code",
      "execution_count": 39,
      "metadata": {
        "colab": {
          "base_uri": "https://localhost:8080/"
        },
        "id": "1lnvgV_AMRsO",
        "outputId": "9dcda4e5-76a9-4fb9-f349-065a1da90378"
      },
      "outputs": [
        {
          "name": "stdout",
          "output_type": "stream",
          "text": [
            "Looking in indexes: https://pypi.org/simple, https://us-python.pkg.dev/colab-wheels/public/simple/\n",
            "Collecting PyQt5\n",
            "  Downloading PyQt5-5.15.9-cp37-abi3-manylinux_2_17_x86_64.whl (8.4 MB)\n",
            "\u001b[2K     \u001b[90m━━━━━━━━━━━━━━━━━━━━━━━━━━━━━━━━━━━━━━━━\u001b[0m \u001b[32m8.4/8.4 MB\u001b[0m \u001b[31m48.0 MB/s\u001b[0m eta \u001b[36m0:00:00\u001b[0m\n",
            "\u001b[?25hCollecting PyQt5-sip<13,>=12.11\n",
            "  Downloading PyQt5_sip-12.11.1-cp39-cp39-manylinux_2_5_x86_64.manylinux1_x86_64.whl (357 kB)\n",
            "\u001b[2K     \u001b[90m━━━━━━━━━━━━━━━━━━━━━━━━━━━━━━━━━━━━━━\u001b[0m \u001b[32m357.8/357.8 KB\u001b[0m \u001b[31m36.3 MB/s\u001b[0m eta \u001b[36m0:00:00\u001b[0m\n",
            "\u001b[?25hCollecting PyQt5-Qt5>=5.15.2\n",
            "  Downloading PyQt5_Qt5-5.15.2-py3-none-manylinux2014_x86_64.whl (59.9 MB)\n",
            "\u001b[2K     \u001b[90m━━━━━━━━━━━━━━━━━━━━━━━━━━━━━━━━━━━━━━━━\u001b[0m \u001b[32m59.9/59.9 MB\u001b[0m \u001b[31m24.8 MB/s\u001b[0m eta \u001b[36m0:00:00\u001b[0m\n",
            "\u001b[?25hInstalling collected packages: PyQt5-Qt5, PyQt5-sip, PyQt5\n",
            "Successfully installed PyQt5-5.15.9 PyQt5-Qt5-5.15.2 PyQt5-sip-12.11.1\n"
          ]
        }
      ],
      "source": [
        "!pip install PyQt5"
      ]
    },
    {
      "cell_type": "code",
      "execution_count": null,
      "metadata": {
        "id": "pz-GD0_8MJrw"
      },
      "outputs": [],
      "source": [
        "!sudo ln -sf /usr/lib/x86_64-linux-gnu/qt5/plugins/platforms/ /usr/bin/\n",
        "\n"
      ]
    },
    {
      "cell_type": "code",
      "execution_count": 40,
      "metadata": {
        "colab": {
          "base_uri": "https://localhost:8080/"
        },
        "id": "mA_ydz8XLVCh",
        "outputId": "1fa4c41d-e941-4bfa-da2b-b6f301ee20d9"
      },
      "outputs": [
        {
          "name": "stdout",
          "output_type": "stream",
          "text": [
            "/usr/local/lib/python3.9/dist-packages/torchvision/models/_utils.py:208: UserWarning: The parameter 'pretrained' is deprecated since 0.13 and may be removed in the future, please use 'weights' instead.\n",
            "  warnings.warn(\n",
            "/usr/local/lib/python3.9/dist-packages/torchvision/models/_utils.py:223: UserWarning: Arguments other than a weight enum or `None` for 'weights' are deprecated since 0.13 and may be removed in the future. The current behavior is equivalent to passing `weights=DenseNet161_Weights.IMAGENET1K_V1`. You can also use `weights=DenseNet161_Weights.DEFAULT` to get the most up-to-date weights.\n",
            "  warnings.warn(msg)\n",
            "qt.qpa.plugin: Could not find the Qt platform plugin \"xcb\" in \"/usr/local/lib/python3.9/dist-packages/cv2/qt/plugins\"\n",
            "This application failed to start because no Qt platform plugin could be initialized. Reinstalling the application may fix this problem.\n",
            "\n"
          ]
        }
      ],
      "source": [
        "!python3 Test.py"
      ]
    },
    {
      "cell_type": "code",
      "execution_count": null,
      "metadata": {
        "id": "unHzQyxHLmo1"
      },
      "outputs": [],
      "source": []
    }
  ],
  "metadata": {
    "accelerator": "GPU",
    "colab": {
      "include_colab_link": true,
      "provenance": []
    },
    "gpuClass": "standard",
    "kernelspec": {
      "display_name": "torch",
      "language": "python",
      "name": "python3"
    },
    "language_info": {
      "codemirror_mode": {
        "name": "ipython",
        "version": 3
      },
      "file_extension": ".py",
      "mimetype": "text/x-python",
      "name": "python",
      "nbconvert_exporter": "python",
      "pygments_lexer": "ipython3",
      "version": "3.10.9"
    },
    "orig_nbformat": 4
  },
  "nbformat": 4,
  "nbformat_minor": 0
}
