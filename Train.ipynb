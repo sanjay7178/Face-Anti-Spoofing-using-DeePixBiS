{
 "cells": [
  {
   "cell_type": "code",
   "execution_count": 1,
   "metadata": {},
   "outputs": [],
   "source": [
    "import torch\n",
    "import torch.nn as nn\n",
    "from torchvision.transforms import Compose, ToTensor, RandomHorizontalFlip, Normalize, Resize, RandomRotation\n",
    "import numpy as np\n",
    "from torch.utils.data import DataLoader\n",
    "from Dataset import PixWiseDataset\n",
    "from Model import DeePixBiS\n",
    "from Loss import PixWiseBCELoss\n",
    "from Metrics import predict, test_accuracy, test_loss\n",
    "from Trainer import Trainer\n"
   ]
  },
  {
   "cell_type": "code",
   "execution_count": 3,
   "metadata": {},
   "outputs": [
    {
     "data": {
      "text/plain": [
       "True"
      ]
     },
     "execution_count": 3,
     "metadata": {},
     "output_type": "execute_result"
    }
   ],
   "source": [
    "torch.cuda.is_available()\n"
   ]
  },
  {
   "cell_type": "code",
   "execution_count": 10,
   "metadata": {},
   "outputs": [
    {
     "name": "stdout",
     "output_type": "stream",
     "text": [
      "cuda:0\n"
     ]
    }
   ],
   "source": [
    "device = torch.device(\"cuda:0\" if torch.cuda.is_available() else \"cpu\")\n",
    "print(device)\n"
   ]
  },
  {
   "cell_type": "code",
   "execution_count": 5,
   "metadata": {},
   "outputs": [
    {
     "data": {
      "text/plain": [
       "'NVIDIA TITAN Xp'"
      ]
     },
     "execution_count": 5,
     "metadata": {},
     "output_type": "execute_result"
    }
   ],
   "source": [
    "torch.cuda.get_device_name(0)"
   ]
  },
  {
   "cell_type": "code",
   "execution_count": 11,
   "metadata": {},
   "outputs": [],
   "source": [
    "X_train = torch.FloatTensor([0., 1., 2.])\n",
    "X_train = X_train.cuda() "
   ]
  },
  {
   "cell_type": "code",
   "execution_count": 6,
   "metadata": {},
   "outputs": [
    {
     "name": "stderr",
     "output_type": "stream",
     "text": [
      "/home/air/miniconda3/envs/torch/lib/python3.10/site-packages/torchvision/models/_utils.py:208: UserWarning: The parameter 'pretrained' is deprecated since 0.13 and may be removed in the future, please use 'weights' instead.\n",
      "  warnings.warn(\n",
      "/home/air/miniconda3/envs/torch/lib/python3.10/site-packages/torchvision/models/_utils.py:223: UserWarning: Arguments other than a weight enum or `None` for 'weights' are deprecated since 0.13 and may be removed in the future. The current behavior is equivalent to passing `weights=DenseNet161_Weights.IMAGENET1K_V1`. You can also use `weights=DenseNet161_Weights.DEFAULT` to get the most up-to-date weights.\n",
      "  warnings.warn(msg)\n"
     ]
    }
   ],
   "source": [
    "\n",
    "model = DeePixBiS()\n",
    "model.load_state_dict(torch.load('./DeePixBiS.pth'))\n",
    "\n",
    "loss_fn = PixWiseBCELoss()\n",
    "\n",
    "opt = torch.optim.Adam(model.parameters(), lr=0.0001)\n",
    "\n"
   ]
  },
  {
   "cell_type": "code",
   "execution_count": 7,
   "metadata": {},
   "outputs": [],
   "source": [
    "train_tfms = Compose([Resize([224, 224]),\n",
    "                      RandomHorizontalFlip(),\n",
    "                      RandomRotation(10),\n",
    "                      ToTensor(),\n",
    "                      Normalize([0.5, 0.5, 0.5], [0.5, 0.5, 0.5])])\n",
    "\n",
    "test_tfms = Compose([Resize([224, 224]),\n",
    "                     ToTensor(),\n",
    "                     Normalize([0.5, 0.5, 0.5], [0.5, 0.5, 0.5])])\n",
    "\n"
   ]
  },
  {
   "cell_type": "code",
   "execution_count": 13,
   "metadata": {},
   "outputs": [],
   "source": [
    "train_dataset = PixWiseDataset('./train_data.csv', transform=train_tfms)\n",
    "train_ds = train_dataset.dataset()\n",
    "\n",
    "val_dataset = PixWiseDataset('./test_data.csv', transform=test_tfms)\n",
    "val_ds = val_dataset.dataset()\n",
    "\n",
    "batch_size = 1000\n",
    "train_dl = DataLoader(train_ds, batch_size, shuffle=True, num_workers=0, pin_memory=True)\n",
    "val_dl = DataLoader(val_ds, batch_size, shuffle=True, num_workers=0, pin_memory=True)\n"
   ]
  },
  {
   "cell_type": "code",
   "execution_count": 14,
   "metadata": {},
   "outputs": [
    {
     "name": "stdout",
     "output_type": "stream",
     "text": [
      "Training Beginning\n",
      "\n",
      "\n",
      "Epoch (1/1)\n",
      "----------------------------------\n"
     ]
    }
   ],
   "source": [
    "\n",
    "# for x, y, z in val_dl:\n",
    "# \t_, zp = model(x)\n",
    "# \tprint(zp)\n",
    "# \tprint (z)\n",
    "# \tbreak\n",
    "\n",
    "# print(test_accuracy(model, train_dl))\n",
    "# print(test_loss(model, train_dl, loss_fn))\n",
    "\n",
    "# 5 epochs ran\n",
    "\n",
    "trainer = Trainer(train_dl, val_dl, model, 1, opt, loss_fn)\n",
    "\n",
    "print('Training Beginning\\n')\n",
    "trainer.fit()\n",
    "print('\\nTraining Complete')\n",
    "torch.save(model.state_dict(), './DeePixBiS.pth')\n"
   ]
  }
 ],
 "metadata": {
  "kernelspec": {
   "display_name": "torch",
   "language": "python",
   "name": "python3"
  },
  "language_info": {
   "codemirror_mode": {
    "name": "ipython",
    "version": 3
   },
   "file_extension": ".py",
   "mimetype": "text/x-python",
   "name": "python",
   "nbconvert_exporter": "python",
   "pygments_lexer": "ipython3",
   "version": "3.10.9"
  },
  "orig_nbformat": 4
 },
 "nbformat": 4,
 "nbformat_minor": 2
}
